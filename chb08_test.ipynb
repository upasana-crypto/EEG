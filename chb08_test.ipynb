{
  "nbformat": 4,
  "nbformat_minor": 0,
  "metadata": {
    "colab": {
      "provenance": [],
      "collapsed_sections": [],
      "machine_shape": "hm",
      "include_colab_link": true
    },
    "kernelspec": {
      "name": "python3",
      "display_name": "Python 3"
    },
    "language_info": {
      "name": "python"
    },
    "accelerator": "GPU",
    "gpuClass": "standard"
  },
  "cells": [
    {
      "cell_type": "markdown",
      "metadata": {
        "id": "view-in-github",
        "colab_type": "text"
      },
      "source": [
        "<a href=\"https://colab.research.google.com/github/upasana-crypto/EEG/blob/main/chb08_test.ipynb\" target=\"_parent\"><img src=\"https://colab.research.google.com/assets/colab-badge.svg\" alt=\"Open In Colab\"/></a>"
      ]
    },
    {
      "cell_type": "code",
      "source": [
        "from google.colab import files\n",
        "uploaded = files.upload()"
      ],
      "metadata": {
        "id": "jQCSt45s6s_p"
      },
      "execution_count": null,
      "outputs": []
    },
    {
      "cell_type": "code",
      "source": [
        "from google.colab import drive\n",
        "drive.mount('/content/drive')"
      ],
      "metadata": {
        "colab": {
          "base_uri": "https://localhost:8080/"
        },
        "id": "f--3Y0bz9lfa",
        "outputId": "1c609432-9f3f-4b36-e57b-4552a9b1bf20"
      },
      "execution_count": 7,
      "outputs": [
        {
          "output_type": "stream",
          "name": "stdout",
          "text": [
            "Mounted at /content/drive\n"
          ]
        }
      ]
    },
    {
      "cell_type": "markdown",
      "source": [
        "# New Section"
      ],
      "metadata": {
        "id": "KNCSI8pJ_S0_"
      }
    },
    {
      "cell_type": "code",
      "source": [
        "!pip install pyedflib"
      ],
      "metadata": {
        "colab": {
          "base_uri": "https://localhost:8080/"
        },
        "id": "D9W0Efc_HIge",
        "outputId": "a1e1901d-5a8c-413b-b49a-d15c2ba6a403"
      },
      "execution_count": 2,
      "outputs": [
        {
          "output_type": "stream",
          "name": "stdout",
          "text": [
            "Looking in indexes: https://pypi.org/simple, https://us-python.pkg.dev/colab-wheels/public/simple/\n",
            "Collecting pyedflib\n",
            "  Downloading pyEDFlib-0.1.30-cp37-cp37m-manylinux_2_17_x86_64.manylinux2014_x86_64.whl (2.4 MB)\n",
            "\u001b[K     |████████████████████████████████| 2.4 MB 33.7 MB/s \n",
            "\u001b[?25hRequirement already satisfied: numpy>=1.9.1 in /usr/local/lib/python3.7/dist-packages (from pyedflib) (1.21.6)\n",
            "Installing collected packages: pyedflib\n",
            "Successfully installed pyedflib-0.1.30\n"
          ]
        }
      ]
    },
    {
      "cell_type": "code",
      "execution_count": 3,
      "metadata": {
        "id": "ooe-PbbH54IQ"
      },
      "outputs": [],
      "source": [
        "import pyedflib\n",
        "import numpy as np\n",
        "from scipy import signal\n",
        "import matplotlib.pyplot as plt\n",
        "from datetime import datetime, timedelta\n",
        "import os\n",
        "import warnings \n",
        "import random\n",
        "import collections\n",
        "from PIL import Image\n",
        "from numpy.random import seed\n",
        "import datetime\n",
        "from time import mktime\n",
        "from time import gmtime, strptime\n"
      ]
    },
    {
      "cell_type": "code",
      "source": [],
      "metadata": {
        "id": "zr8e1U7fEoSf"
      },
      "execution_count": null,
      "outputs": []
    },
    {
      "cell_type": "code",
      "source": [
        "import warnings\n",
        "warnings.filterwarnings(\"ignore\")\n",
        "pathDataSet = '/content/drive/MyDrive/upsi-seizure/data/chb08/'\n",
        "patients = [\"08\"]"
      ],
      "metadata": {
        "id": "ZBQvFGCr6xJ4"
      },
      "execution_count": 4,
      "outputs": []
    },
    {
      "cell_type": "code",
      "source": [
        "def loadSummaryPatient(index):\n",
        "  f = open(pathDataSet+'/chb'+patients[index]+'-summary (1).txt', 'r') #change to summary.txt\n",
        "  parent = '/content/drive/MyDrive/upsi-seizure/data/chb'+patients[index]+'/'\n",
        "  return f, parent"
      ],
      "metadata": {
        "id": "43HyHDurFFoV"
      },
      "execution_count": 5,
      "outputs": []
    },
    {
      "cell_type": "code",
      "source": [
        "def createDataset():\n",
        "\n",
        "    print(\"START \\n\")\n",
        "    for indexPatient in range(0, len(patients)):\n",
        "        # fileList = []\n",
        "    \n",
        "        f, parent = loadSummaryPatient(indexPatient)\n",
        "        line=f.readline()\n",
        "        while (line):\n",
        "            data=line.split(':')\n",
        "            if (data[0]==\"File Name\"):\n",
        "                name_F=data[1].strip()\n",
        "                print(name_F)\n",
        "                fileSt=f.readline().split(': ')[1]\n",
        "                Sthr=fileSt.split(':')[0]\n",
        "                print(Sthr)\n",
        "                Stmin=fileSt.split(':')[1]\n",
        "                print(Stmin)\n",
        "                Stsec=fileSt.split(':')[2]\n",
        "                print(Stsec)\n",
        "                fileEn=f.readline().split(': ')[1]\n",
        "                Enhr=fileEn.split(':')[0]\n",
        "                print(Enhr)\n",
        "                Enmin=fileSt.split(':')[1]\n",
        "                print(Enmin)\n",
        "                Ensec=fileSt.split(':')[2]\n",
        "                print(Ensec)\n",
        "                trial_duration = ((int(Enhr) - int(Sthr))*3600 + (int(Enmin) - int(Stmin))*60 + (int(Ensec) - int(Stsec)))\n",
        "                for i in range(1):\n",
        "                    line=f.readline()\n",
        "                for j in range(0, int(line.split(': ')[1])):\n",
        "                    secSt=int(f.readline().split(': ')[1].split(' ')[0])\n",
        "                    secEn=int(f.readline().split(': ')[1].split(' ')[0])\n",
        "                    seizureImageGenerate(secSt, secEn, name_F, parent)\n",
        "                break   # remove this\n",
        "            line=f.readline()\n",
        "        f.close()\n",
        "\n",
        "    print(\"END \\n\")"
      ],
      "metadata": {
        "id": "0Zr6ZfZhFB6t"
      },
      "execution_count": 7,
      "outputs": []
    },
    {
      "cell_type": "code",
      "source": [
        "def seizureImageGenerate(secSt, secEn, name_F, parent):\n",
        "  file1 = pyedflib.EdfReader(pathDataSet+name_F)\n",
        "  n = file1.signals_in_file\n",
        "  # print(n)\n",
        "  signal_labels = file1.getSignalLabels()\n",
        "  signal_headers = file1.getSignalHeaders()\n",
        "  rate = signal_headers[0]['sample_rate']\n",
        "  dur = file1.getFileDuration()\n",
        "  x = np.zeros((n, file1.getNSamples()[0]))\n",
        "  for i in range(n):\n",
        "    x[i,:] = file1.readSignal(i)\n",
        "    # print(x)\n",
        "    label = file1.getLabel(i)\n",
        "  file1.close()\n",
        "  #x_filter = butter_bandpass_filter(x ,lowcut , highcut , fs , order = 5)\n",
        "  #a = os.getcwd()\n",
        "  path = '/content/drive/MyDrive/upsi-seizure/test/'\n",
        "  if os.path.isdir(path) is not True:\n",
        "    os.makedirs(path)\n",
        "  picnum = int(dur*rate/256)\n",
        "  c1 =0\n",
        "  c2 = 0\n",
        "  for i in range(picnum):\n",
        "    img = x[:,i*256:(i+1)*256]\n",
        "    img = (img - np.min(img))/(np.max(img) - np.min(img))\n",
        "    #Img = Image.fromarray(np.uint8(img))\n",
        "    if secSt <= i+1 <= secEn: #window size is 1sec\n",
        "      filename = '_time_seizure_'+ str(i+1)\n",
        "      np.save(path + name_F.split('.')[0] + filename+'.npy', img)\n",
        "      #print('hi')\n",
        "      c1+=1\n",
        "    else:\n",
        "      filename = '_time_nonseizure_'+ str(i+1)\n",
        "      np.save(path + name_F.split('.')[0] + filename+'.npy', img)\n",
        "      #print('no=hi')\n",
        "      c2+=1\n",
        "\n",
        "  print(c1+c2)"
      ],
      "metadata": {
        "id": "OQsWtbwFEqFa"
      },
      "execution_count": 8,
      "outputs": []
    },
    {
      "cell_type": "code",
      "source": [
        "createDataset()"
      ],
      "metadata": {
        "colab": {
          "base_uri": "https://localhost:8080/"
        },
        "id": "UIi35oh1Gyws",
        "outputId": "3367efc9-9f0a-4a99-9ac7-0b2e5ebadc21"
      },
      "execution_count": 9,
      "outputs": [
        {
          "output_type": "stream",
          "name": "stdout",
          "text": [
            "START \n",
            "\n",
            "chb08_02.edf\n",
            "12\n",
            "28\n",
            "57\n",
            "\n",
            "13\n",
            "28\n",
            "57\n",
            "\n",
            "3600\n",
            "END \n",
            "\n"
          ]
        }
      ]
    },
    {
      "cell_type": "code",
      "source": [
        "from tensorflow.keras.utils import Sequence\n",
        "from sklearn.model_selection import train_test_split\n",
        "from sklearn.metrics import accuracy_score, confusion_matrix, f1_score, roc_curve, auc, fbeta_score"
      ],
      "metadata": {
        "id": "843wtMmr5_fx"
      },
      "execution_count": 6,
      "outputs": []
    },
    {
      "cell_type": "code",
      "source": [
        "def generatePathList(patients, val_size, test_size):\n",
        "    parent_path = '/content/drive/MyDrive/upsi-seizure/test/'\n",
        "    pathList = []\n",
        "    for indexPatient in range(0, len(patients)):\n",
        "        sub_path = 'chb'+patients[indexPatient]+'/'\n",
        "        directory_name = parent_path\n",
        "        for filename in os.listdir(directory_name):\n",
        "            pathList.append(directory_name+filename)\n",
        "    L = len(pathList)\n",
        "    train_index_size = int(L*(1-val_size-test_size))\n",
        "    val_index_size = int(L*val_size)\n",
        "    test_index_size = int(L*test_size)\n",
        "    train_index = random.sample(pathList, train_index_size)\n",
        "    val_index = random.sample(pathList, val_index_size)\n",
        "    test_index = random.sample(pathList, test_index_size)\n",
        "    print(test_index)\n",
        "    return pathList.index(train_index), pathList(val_index), pathList.index(test_index), pathList\n",
        "\n",
        "class DataGenerator(Sequence):\n",
        "\n",
        "    def __init__(self, index, pathList, parent_path = '/content/drive/MyDrive/upsi-seizure/test/', batch_size=32):\n",
        "        self.batch_size = batch_size\n",
        "        self.parent_path = parent_path\n",
        "        self.pathList = pathList\n",
        "        self.index = index\n",
        "        self.L = len(self.index)\n",
        "\n",
        "\n",
        "    def __len__(self):\n",
        "        return self.L - self.batch_size\n",
        "\n",
        "    def __getitem__(self, idx):\n",
        "        batch_indexs = self.index[idx:(idx+self.batch_size)]\n",
        "        image_path = [self.pathList[k] for k in batch_indexs]\n",
        "        #print(batch_indexs)\n",
        "        #print(image_path)\n",
        "        return self._load_image(image_path)\n",
        "\n",
        "  \n",
        "    def _load_image(self, image_path):\n",
        "        features = np.zeros(((len(image_path)),23,256))\n",
        "        labels = np.zeros((len(image_path)),dtype=int)\n",
        "        i = 0 #the feature index\n",
        "        for name in image_path:\n",
        "            #print(name)\n",
        "            if '_seizure_' in name:\n",
        "                features[i] = np.array(np.load(name))[0:23,:]\n",
        "                labels[i] = 1\n",
        "                #print('hi')\n",
        "            elif '_nonseizure_' in name:\n",
        "                features[i] = np.array(np.load(name))[0:23,:]\n",
        "                labels[i] = 0\n",
        "            i = i+1\n",
        "        #print(features)\n",
        "        #print(labels)\n",
        "        #print(np.expand_dims(np.array(features), axis=3).shape)\n",
        "        #print(labels.shape)\n",
        "        #print('features', features)\n",
        "        print('labels', labels)\n",
        "        #print(features.shape)\n",
        "        s = np.expand_dims(np.array(features), axis=3)\n",
        "        #print(s.shape)\n",
        "        return np.expand_dims(np.array(features), axis=3),labels"
      ],
      "metadata": {
        "id": "YOmr15fg6DOJ"
      },
      "execution_count": 18,
      "outputs": []
    },
    {
      "cell_type": "code",
      "source": [
        "import os\n",
        "\n",
        "print(len(os.listdir(r\"/content/drive/MyDrive/upsi-seizure/test\")))"
      ],
      "metadata": {
        "colab": {
          "base_uri": "https://localhost:8080/"
        },
        "id": "twKefyjg0EPl",
        "outputId": "e47510bc-3c51-41e9-f53a-1de99049ce30"
      },
      "execution_count": 9,
      "outputs": [
        {
          "output_type": "stream",
          "name": "stdout",
          "text": [
            "3600\n"
          ]
        }
      ]
    },
    {
      "cell_type": "code",
      "source": [
        "import tensorflow\n",
        "from tensorflow import keras \n",
        "from tensorflow.keras.models import Sequential\n",
        "from tensorflow.keras.layers import Dropout, Dense, Activation, Flatten, LSTM, Bidirectional, ConvLSTM2D\n",
        "from tensorflow.keras.layers import Conv2D, MaxPooling2D,GlobalAveragePooling2D, BatchNormalization, TimeDistributed, SimpleRNN, GRU\n",
        "from tensorflow.keras.optimizers import SGD\n",
        "from tensorflow.keras.backend import clear_session"
      ],
      "metadata": {
        "id": "Avm4O31L6FvY"
      },
      "execution_count": 10,
      "outputs": []
    },
    {
      "cell_type": "code",
      "source": [
        "model = Sequential()\n",
        "\n",
        "model.add(Conv2D(4, (1, 8), strides = (1,1), padding = 'same', input_shape=((23, 256, 1))))\n",
        "#model.add(BatchNormalization())\n",
        "model.add(Activation('relu'))\n",
        "model.add(MaxPooling2D(pool_size=(1, 8), strides=(1,8)))\n",
        "#model.add(Dropout(0.15))\n",
        "\n",
        "model.add(Conv2D(16, (1, 16),strides = (1,1), padding = 'same'))\n",
        "#model.add(BatchNormalization())\n",
        "model.add(Activation('relu'))\n",
        "model.add(MaxPooling2D(pool_size=(1, 4), strides=(1,4)))\n",
        "#model.add(Dropout(0.15))\n",
        "\n",
        "model.add(Conv2D(16, (1, 8),strides = (1,1), padding = 'same'))\n",
        "#model.add(BatchNormalization())\n",
        "model.add(Activation('relu'))\n",
        "model.add(MaxPooling2D(pool_size=(1, 4), strides=(1,4)))\n",
        "#model.add(Dropout(0.15))\n",
        "\n",
        "model.add(Conv2D(16, (16, 1),strides = (1,1), padding = 'same'))\n",
        "#model.add(BatchNormalization())\n",
        "model.add(Activation('relu'))\n",
        "model.add(MaxPooling2D(pool_size=(4, 1), strides=(4,1)))\n",
        "#model.add(Dropout(0.15))\n",
        "\n",
        "model.add(Conv2D(16, (16, 1),strides = (1,1), padding = 'same'))\n",
        "#model.add(BatchNormalization())\n",
        "model.add(Activation('relu'))\n",
        "model.add(MaxPooling2D(pool_size=(4, 1), strides=(4,1)))\n",
        "#model.add(Dropout(0.15))\n",
        "\n",
        "model.add(GlobalAveragePooling2D())\n",
        "\n",
        "model.add(Dense(1, activation='sigmoid'))\n",
        "\n",
        "sgd = SGD(learning_rate=0.0001, decay=1e-6, momentum=0.9, nesterov=True)\n",
        "model.compile(metrics=['accuracy',keras.metrics.Recall(name='sen'), keras.metrics.SpecificityAtSensitivity(0.98)], \n",
        "              loss='binary_crossentropy', optimizer= 'sgd')"
      ],
      "metadata": {
        "id": "MSCdBW5D6Jrt"
      },
      "execution_count": 11,
      "outputs": []
    },
    {
      "cell_type": "code",
      "source": [
        "import os\n",
        "import random\n",
        "import collections\n",
        "train_id, val_id, test_id, path_list = generatePathList(patients,val_size= 0.3, test_size=0.1) # 30% test_size \n",
        "#print(test_id)\n",
        "#print(train_id)\n",
        "train_data = DataGenerator(train_id, path_list)\n",
        "test_data  =  DataGenerator(test_id, path_list)"
      ],
      "metadata": {
        "id": "ANCiSKPK6M_K",
        "colab": {
          "base_uri": "https://localhost:8080/",
          "height": 516
        },
        "outputId": "50e8673e-2ba3-4c37-ef53-172cac502bf3"
      },
      "execution_count": 19,
      "outputs": [
        {
          "output_type": "stream",
          "name": "stdout",
          "text": [
            "['/content/drive/MyDrive/upsi-seizure/test/chb08_02_time_nonseizure_531.npy', '/content/drive/MyDrive/upsi-seizure/test/chb08_02_time_nonseizure_2102.npy', '/content/drive/MyDrive/upsi-seizure/test/chb08_02_time_nonseizure_426.npy', '/content/drive/MyDrive/upsi-seizure/test/chb08_02_time_nonseizure_909.npy', '/content/drive/MyDrive/upsi-seizure/test/chb08_02_time_nonseizure_2012.npy', '/content/drive/MyDrive/upsi-seizure/test/chb08_02_time_seizure_2722.npy', '/content/drive/MyDrive/upsi-seizure/test/chb08_02_time_nonseizure_2568.npy', '/content/drive/MyDrive/upsi-seizure/test/chb08_02_time_nonseizure_3427.npy', '/content/drive/MyDrive/upsi-seizure/test/chb08_02_time_nonseizure_1645.npy', '/content/drive/MyDrive/upsi-seizure/test/chb08_02_time_nonseizure_1773.npy', '/content/drive/MyDrive/upsi-seizure/test/chb08_02_time_nonseizure_2457.npy', '/content/drive/MyDrive/upsi-seizure/test/chb08_02_time_nonseizure_3292.npy', '/content/drive/MyDrive/upsi-seizure/test/chb08_02_time_nonseizure_469.npy', '/content/drive/MyDrive/upsi-seizure/test/chb08_02_time_seizure_2786.npy', '/content/drive/MyDrive/upsi-seizure/test/chb08_02_time_nonseizure_1878.npy', '/content/drive/MyDrive/upsi-seizure/test/chb08_02_time_nonseizure_1145.npy', '/content/drive/MyDrive/upsi-seizure/test/chb08_02_time_nonseizure_963.npy', '/content/drive/MyDrive/upsi-seizure/test/chb08_02_time_nonseizure_1344.npy', '/content/drive/MyDrive/upsi-seizure/test/chb08_02_time_nonseizure_2516.npy', '/content/drive/MyDrive/upsi-seizure/test/chb08_02_time_nonseizure_772.npy', '/content/drive/MyDrive/upsi-seizure/test/chb08_02_time_nonseizure_1304.npy', '/content/drive/MyDrive/upsi-seizure/test/chb08_02_time_nonseizure_2236.npy', '/content/drive/MyDrive/upsi-seizure/test/chb08_02_time_nonseizure_2919.npy', '/content/drive/MyDrive/upsi-seizure/test/chb08_02_time_nonseizure_127.npy', '/content/drive/MyDrive/upsi-seizure/test/chb08_02_time_nonseizure_1053.npy', '/content/drive/MyDrive/upsi-seizure/test/chb08_02_time_nonseizure_1548.npy', '/content/drive/MyDrive/upsi-seizure/test/chb08_02_time_nonseizure_2990.npy', '/content/drive/MyDrive/upsi-seizure/test/chb08_02_time_nonseizure_559.npy', '/content/drive/MyDrive/upsi-seizure/test/chb08_02_time_nonseizure_350.npy', '/content/drive/MyDrive/upsi-seizure/test/chb08_02_time_nonseizure_830.npy', '/content/drive/MyDrive/upsi-seizure/test/chb08_02_time_nonseizure_281.npy', '/content/drive/MyDrive/upsi-seizure/test/chb08_02_time_nonseizure_769.npy', '/content/drive/MyDrive/upsi-seizure/test/chb08_02_time_nonseizure_1742.npy', '/content/drive/MyDrive/upsi-seizure/test/chb08_02_time_nonseizure_3346.npy', '/content/drive/MyDrive/upsi-seizure/test/chb08_02_time_nonseizure_1415.npy', '/content/drive/MyDrive/upsi-seizure/test/chb08_02_time_nonseizure_3578.npy', '/content/drive/MyDrive/upsi-seizure/test/chb08_02_time_nonseizure_2977.npy', '/content/drive/MyDrive/upsi-seizure/test/chb08_02_time_seizure_2841.npy', '/content/drive/MyDrive/upsi-seizure/test/chb08_02_time_nonseizure_767.npy', '/content/drive/MyDrive/upsi-seizure/test/chb08_02_time_nonseizure_1087.npy', '/content/drive/MyDrive/upsi-seizure/test/chb08_02_time_nonseizure_3015.npy', '/content/drive/MyDrive/upsi-seizure/test/chb08_02_time_nonseizure_991.npy', '/content/drive/MyDrive/upsi-seizure/test/chb08_02_time_nonseizure_2483.npy', '/content/drive/MyDrive/upsi-seizure/test/chb08_02_time_nonseizure_1028.npy', '/content/drive/MyDrive/upsi-seizure/test/chb08_02_time_nonseizure_1257.npy', '/content/drive/MyDrive/upsi-seizure/test/chb08_02_time_nonseizure_3404.npy', '/content/drive/MyDrive/upsi-seizure/test/chb08_02_time_nonseizure_2378.npy', '/content/drive/MyDrive/upsi-seizure/test/chb08_02_time_nonseizure_2656.npy', '/content/drive/MyDrive/upsi-seizure/test/chb08_02_time_nonseizure_1954.npy', '/content/drive/MyDrive/upsi-seizure/test/chb08_02_time_nonseizure_2935.npy', '/content/drive/MyDrive/upsi-seizure/test/chb08_02_time_seizure_2724.npy', '/content/drive/MyDrive/upsi-seizure/test/chb08_02_time_nonseizure_866.npy', '/content/drive/MyDrive/upsi-seizure/test/chb08_02_time_nonseizure_1456.npy', '/content/drive/MyDrive/upsi-seizure/test/chb08_02_time_nonseizure_2307.npy', '/content/drive/MyDrive/upsi-seizure/test/chb08_02_time_nonseizure_3288.npy', '/content/drive/MyDrive/upsi-seizure/test/chb08_02_time_nonseizure_906.npy', '/content/drive/MyDrive/upsi-seizure/test/chb08_02_time_nonseizure_254.npy', '/content/drive/MyDrive/upsi-seizure/test/chb08_02_time_nonseizure_737.npy', '/content/drive/MyDrive/upsi-seizure/test/chb08_02_time_nonseizure_2553.npy', '/content/drive/MyDrive/upsi-seizure/test/chb08_02_time_nonseizure_3008.npy', '/content/drive/MyDrive/upsi-seizure/test/chb08_02_time_nonseizure_1385.npy', '/content/drive/MyDrive/upsi-seizure/test/chb08_02_time_nonseizure_333.npy', '/content/drive/MyDrive/upsi-seizure/test/chb08_02_time_nonseizure_3599.npy', '/content/drive/MyDrive/upsi-seizure/test/chb08_02_time_nonseizure_2474.npy', '/content/drive/MyDrive/upsi-seizure/test/chb08_02_time_nonseizure_3249.npy', '/content/drive/MyDrive/upsi-seizure/test/chb08_02_time_nonseizure_1288.npy', '/content/drive/MyDrive/upsi-seizure/test/chb08_02_time_nonseizure_1859.npy', '/content/drive/MyDrive/upsi-seizure/test/chb08_02_time_nonseizure_1847.npy', '/content/drive/MyDrive/upsi-seizure/test/chb08_02_time_nonseizure_1453.npy', '/content/drive/MyDrive/upsi-seizure/test/chb08_02_time_nonseizure_2250.npy', '/content/drive/MyDrive/upsi-seizure/test/chb08_02_time_nonseizure_1729.npy', '/content/drive/MyDrive/upsi-seizure/test/chb08_02_time_nonseizure_686.npy', '/content/drive/MyDrive/upsi-seizure/test/chb08_02_time_nonseizure_3241.npy', '/content/drive/MyDrive/upsi-seizure/test/chb08_02_time_nonseizure_3185.npy', '/content/drive/MyDrive/upsi-seizure/test/chb08_02_time_nonseizure_1364.npy', '/content/drive/MyDrive/upsi-seizure/test/chb08_02_time_nonseizure_1628.npy', '/content/drive/MyDrive/upsi-seizure/test/chb08_02_time_nonseizure_1977.npy', '/content/drive/MyDrive/upsi-seizure/test/chb08_02_time_nonseizure_2349.npy', '/content/drive/MyDrive/upsi-seizure/test/chb08_02_time_nonseizure_3057.npy', '/content/drive/MyDrive/upsi-seizure/test/chb08_02_time_nonseizure_743.npy', '/content/drive/MyDrive/upsi-seizure/test/chb08_02_time_nonseizure_960.npy', '/content/drive/MyDrive/upsi-seizure/test/chb08_02_time_nonseizure_3551.npy', '/content/drive/MyDrive/upsi-seizure/test/chb08_02_time_nonseizure_1420.npy', '/content/drive/MyDrive/upsi-seizure/test/chb08_02_time_nonseizure_2052.npy', '/content/drive/MyDrive/upsi-seizure/test/chb08_02_time_nonseizure_3080.npy', '/content/drive/MyDrive/upsi-seizure/test/chb08_02_time_nonseizure_3162.npy', '/content/drive/MyDrive/upsi-seizure/test/chb08_02_time_nonseizure_2297.npy', '/content/drive/MyDrive/upsi-seizure/test/chb08_02_time_nonseizure_290.npy', '/content/drive/MyDrive/upsi-seizure/test/chb08_02_time_nonseizure_3295.npy', '/content/drive/MyDrive/upsi-seizure/test/chb08_02_time_nonseizure_3061.npy', '/content/drive/MyDrive/upsi-seizure/test/chb08_02_time_nonseizure_3087.npy', '/content/drive/MyDrive/upsi-seizure/test/chb08_02_time_nonseizure_1428.npy', '/content/drive/MyDrive/upsi-seizure/test/chb08_02_time_nonseizure_3147.npy', '/content/drive/MyDrive/upsi-seizure/test/chb08_02_time_nonseizure_1491.npy', '/content/drive/MyDrive/upsi-seizure/test/chb08_02_time_nonseizure_1227.npy', '/content/drive/MyDrive/upsi-seizure/test/chb08_02_time_nonseizure_1368.npy', '/content/drive/MyDrive/upsi-seizure/test/chb08_02_time_nonseizure_2602.npy', '/content/drive/MyDrive/upsi-seizure/test/chb08_02_time_nonseizure_598.npy', '/content/drive/MyDrive/upsi-seizure/test/chb08_02_time_nonseizure_80.npy', '/content/drive/MyDrive/upsi-seizure/test/chb08_02_time_nonseizure_1966.npy', '/content/drive/MyDrive/upsi-seizure/test/chb08_02_time_nonseizure_343.npy', '/content/drive/MyDrive/upsi-seizure/test/chb08_02_time_nonseizure_2512.npy', '/content/drive/MyDrive/upsi-seizure/test/chb08_02_time_nonseizure_1074.npy', '/content/drive/MyDrive/upsi-seizure/test/chb08_02_time_nonseizure_2276.npy', '/content/drive/MyDrive/upsi-seizure/test/chb08_02_time_nonseizure_3077.npy', '/content/drive/MyDrive/upsi-seizure/test/chb08_02_time_nonseizure_1009.npy', '/content/drive/MyDrive/upsi-seizure/test/chb08_02_time_nonseizure_3284.npy', '/content/drive/MyDrive/upsi-seizure/test/chb08_02_time_nonseizure_2951.npy', '/content/drive/MyDrive/upsi-seizure/test/chb08_02_time_nonseizure_1585.npy', '/content/drive/MyDrive/upsi-seizure/test/chb08_02_time_nonseizure_1328.npy', '/content/drive/MyDrive/upsi-seizure/test/chb08_02_time_nonseizure_1924.npy', '/content/drive/MyDrive/upsi-seizure/test/chb08_02_time_nonseizure_1792.npy', '/content/drive/MyDrive/upsi-seizure/test/chb08_02_time_nonseizure_1886.npy', '/content/drive/MyDrive/upsi-seizure/test/chb08_02_time_nonseizure_1843.npy', '/content/drive/MyDrive/upsi-seizure/test/chb08_02_time_nonseizure_2175.npy', '/content/drive/MyDrive/upsi-seizure/test/chb08_02_time_nonseizure_823.npy', '/content/drive/MyDrive/upsi-seizure/test/chb08_02_time_nonseizure_257.npy', '/content/drive/MyDrive/upsi-seizure/test/chb08_02_time_nonseizure_3020.npy', '/content/drive/MyDrive/upsi-seizure/test/chb08_02_time_nonseizure_381.npy', '/content/drive/MyDrive/upsi-seizure/test/chb08_02_time_nonseizure_616.npy', '/content/drive/MyDrive/upsi-seizure/test/chb08_02_time_nonseizure_3071.npy', '/content/drive/MyDrive/upsi-seizure/test/chb08_02_time_nonseizure_912.npy', '/content/drive/MyDrive/upsi-seizure/test/chb08_02_time_nonseizure_1017.npy', '/content/drive/MyDrive/upsi-seizure/test/chb08_02_time_nonseizure_2430.npy', '/content/drive/MyDrive/upsi-seizure/test/chb08_02_time_nonseizure_995.npy', '/content/drive/MyDrive/upsi-seizure/test/chb08_02_time_nonseizure_1812.npy', '/content/drive/MyDrive/upsi-seizure/test/chb08_02_time_nonseizure_1217.npy', '/content/drive/MyDrive/upsi-seizure/test/chb08_02_time_nonseizure_2045.npy', '/content/drive/MyDrive/upsi-seizure/test/chb08_02_time_nonseizure_892.npy', '/content/drive/MyDrive/upsi-seizure/test/chb08_02_time_nonseizure_2911.npy', '/content/drive/MyDrive/upsi-seizure/test/chb08_02_time_nonseizure_1277.npy', '/content/drive/MyDrive/upsi-seizure/test/chb08_02_time_nonseizure_3266.npy', '/content/drive/MyDrive/upsi-seizure/test/chb08_02_time_nonseizure_190.npy', '/content/drive/MyDrive/upsi-seizure/test/chb08_02_time_nonseizure_1377.npy', '/content/drive/MyDrive/upsi-seizure/test/chb08_02_time_nonseizure_359.npy', '/content/drive/MyDrive/upsi-seizure/test/chb08_02_time_nonseizure_517.npy', '/content/drive/MyDrive/upsi-seizure/test/chb08_02_time_nonseizure_1936.npy', '/content/drive/MyDrive/upsi-seizure/test/chb08_02_time_nonseizure_1162.npy', '/content/drive/MyDrive/upsi-seizure/test/chb08_02_time_nonseizure_1505.npy', '/content/drive/MyDrive/upsi-seizure/test/chb08_02_time_nonseizure_1874.npy', '/content/drive/MyDrive/upsi-seizure/test/chb08_02_time_nonseizure_2550.npy', '/content/drive/MyDrive/upsi-seizure/test/chb08_02_time_nonseizure_1904.npy', '/content/drive/MyDrive/upsi-seizure/test/chb08_02_time_nonseizure_2424.npy', '/content/drive/MyDrive/upsi-seizure/test/chb08_02_time_nonseizure_3232.npy', '/content/drive/MyDrive/upsi-seizure/test/chb08_02_time_seizure_2833.npy', '/content/drive/MyDrive/upsi-seizure/test/chb08_02_time_nonseizure_186.npy', '/content/drive/MyDrive/upsi-seizure/test/chb08_02_time_nonseizure_1163.npy', '/content/drive/MyDrive/upsi-seizure/test/chb08_02_time_nonseizure_2508.npy', '/content/drive/MyDrive/upsi-seizure/test/chb08_02_time_nonseizure_2440.npy', '/content/drive/MyDrive/upsi-seizure/test/chb08_02_time_nonseizure_2544.npy', '/content/drive/MyDrive/upsi-seizure/test/chb08_02_time_nonseizure_2592.npy', '/content/drive/MyDrive/upsi-seizure/test/chb08_02_time_seizure_2715.npy', '/content/drive/MyDrive/upsi-seizure/test/chb08_02_time_nonseizure_2950.npy', '/content/drive/MyDrive/upsi-seizure/test/chb08_02_time_nonseizure_1782.npy', '/content/drive/MyDrive/upsi-seizure/test/chb08_02_time_nonseizure_2003.npy', '/content/drive/MyDrive/upsi-seizure/test/chb08_02_time_nonseizure_2268.npy', '/content/drive/MyDrive/upsi-seizure/test/chb08_02_time_nonseizure_3417.npy', '/content/drive/MyDrive/upsi-seizure/test/chb08_02_time_nonseizure_2481.npy', '/content/drive/MyDrive/upsi-seizure/test/chb08_02_time_nonseizure_852.npy', '/content/drive/MyDrive/upsi-seizure/test/chb08_02_time_nonseizure_133.npy', '/content/drive/MyDrive/upsi-seizure/test/chb08_02_time_nonseizure_1716.npy', '/content/drive/MyDrive/upsi-seizure/test/chb08_02_time_nonseizure_3516.npy', '/content/drive/MyDrive/upsi-seizure/test/chb08_02_time_nonseizure_2055.npy', '/content/drive/MyDrive/upsi-seizure/test/chb08_02_time_nonseizure_295.npy', '/content/drive/MyDrive/upsi-seizure/test/chb08_02_time_nonseizure_2124.npy', '/content/drive/MyDrive/upsi-seizure/test/chb08_02_time_nonseizure_2904.npy', '/content/drive/MyDrive/upsi-seizure/test/chb08_02_time_nonseizure_3230.npy', '/content/drive/MyDrive/upsi-seizure/test/chb08_02_time_nonseizure_988.npy', '/content/drive/MyDrive/upsi-seizure/test/chb08_02_time_nonseizure_3163.npy', '/content/drive/MyDrive/upsi-seizure/test/chb08_02_time_nonseizure_1974.npy', '/content/drive/MyDrive/upsi-seizure/test/chb08_02_time_nonseizure_644.npy', '/content/drive/MyDrive/upsi-seizure/test/chb08_02_time_nonseizure_117.npy', '/content/drive/MyDrive/upsi-seizure/test/chb08_02_time_nonseizure_709.npy', '/content/drive/MyDrive/upsi-seizure/test/chb08_02_time_nonseizure_3246.npy', '/content/drive/MyDrive/upsi-seizure/test/chb08_02_time_nonseizure_2077.npy', '/content/drive/MyDrive/upsi-seizure/test/chb08_02_time_nonseizure_1146.npy', '/content/drive/MyDrive/upsi-seizure/test/chb08_02_time_nonseizure_882.npy', '/content/drive/MyDrive/upsi-seizure/test/chb08_02_time_nonseizure_2398.npy', '/content/drive/MyDrive/upsi-seizure/test/chb08_02_time_nonseizure_2355.npy', '/content/drive/MyDrive/upsi-seizure/test/chb08_02_time_nonseizure_2180.npy', '/content/drive/MyDrive/upsi-seizure/test/chb08_02_time_nonseizure_755.npy', '/content/drive/MyDrive/upsi-seizure/test/chb08_02_time_nonseizure_1481.npy', '/content/drive/MyDrive/upsi-seizure/test/chb08_02_time_nonseizure_747.npy', '/content/drive/MyDrive/upsi-seizure/test/chb08_02_time_nonseizure_2098.npy', '/content/drive/MyDrive/upsi-seizure/test/chb08_02_time_nonseizure_527.npy', '/content/drive/MyDrive/upsi-seizure/test/chb08_02_time_nonseizure_1556.npy', '/content/drive/MyDrive/upsi-seizure/test/chb08_02_time_nonseizure_46.npy', '/content/drive/MyDrive/upsi-seizure/test/chb08_02_time_nonseizure_3538.npy', '/content/drive/MyDrive/upsi-seizure/test/chb08_02_time_nonseizure_3029.npy', '/content/drive/MyDrive/upsi-seizure/test/chb08_02_time_nonseizure_2042.npy', '/content/drive/MyDrive/upsi-seizure/test/chb08_02_time_seizure_2719.npy', '/content/drive/MyDrive/upsi-seizure/test/chb08_02_time_nonseizure_889.npy', '/content/drive/MyDrive/upsi-seizure/test/chb08_02_time_nonseizure_2282.npy', '/content/drive/MyDrive/upsi-seizure/test/chb08_02_time_seizure_2766.npy', '/content/drive/MyDrive/upsi-seizure/test/chb08_02_time_seizure_2776.npy', '/content/drive/MyDrive/upsi-seizure/test/chb08_02_time_nonseizure_3410.npy', '/content/drive/MyDrive/upsi-seizure/test/chb08_02_time_nonseizure_19.npy', '/content/drive/MyDrive/upsi-seizure/test/chb08_02_time_nonseizure_2170.npy', '/content/drive/MyDrive/upsi-seizure/test/chb08_02_time_nonseizure_2523.npy', '/content/drive/MyDrive/upsi-seizure/test/chb08_02_time_nonseizure_3468.npy', '/content/drive/MyDrive/upsi-seizure/test/chb08_02_time_nonseizure_984.npy', '/content/drive/MyDrive/upsi-seizure/test/chb08_02_time_seizure_2814.npy', '/content/drive/MyDrive/upsi-seizure/test/chb08_02_time_nonseizure_3245.npy', '/content/drive/MyDrive/upsi-seizure/test/chb08_02_time_nonseizure_3480.npy', '/content/drive/MyDrive/upsi-seizure/test/chb08_02_time_nonseizure_904.npy', '/content/drive/MyDrive/upsi-seizure/test/chb08_02_time_nonseizure_3421.npy', '/content/drive/MyDrive/upsi-seizure/test/chb08_02_time_nonseizure_206.npy', '/content/drive/MyDrive/upsi-seizure/test/chb08_02_time_nonseizure_3329.npy', '/content/drive/MyDrive/upsi-seizure/test/chb08_02_time_nonseizure_916.npy', '/content/drive/MyDrive/upsi-seizure/test/chb08_02_time_nonseizure_70.npy', '/content/drive/MyDrive/upsi-seizure/test/chb08_02_time_nonseizure_2930.npy', '/content/drive/MyDrive/upsi-seizure/test/chb08_02_time_nonseizure_1696.npy', '/content/drive/MyDrive/upsi-seizure/test/chb08_02_time_nonseizure_89.npy', '/content/drive/MyDrive/upsi-seizure/test/chb08_02_time_nonseizure_1533.npy', '/content/drive/MyDrive/upsi-seizure/test/chb08_02_time_nonseizure_375.npy', '/content/drive/MyDrive/upsi-seizure/test/chb08_02_time_nonseizure_760.npy', '/content/drive/MyDrive/upsi-seizure/test/chb08_02_time_nonseizure_796.npy', '/content/drive/MyDrive/upsi-seizure/test/chb08_02_time_nonseizure_3194.npy', '/content/drive/MyDrive/upsi-seizure/test/chb08_02_time_nonseizure_1104.npy', '/content/drive/MyDrive/upsi-seizure/test/chb08_02_time_nonseizure_1126.npy', '/content/drive/MyDrive/upsi-seizure/test/chb08_02_time_seizure_2677.npy', '/content/drive/MyDrive/upsi-seizure/test/chb08_02_time_nonseizure_929.npy', '/content/drive/MyDrive/upsi-seizure/test/chb08_02_time_nonseizure_1685.npy', '/content/drive/MyDrive/upsi-seizure/test/chb08_02_time_nonseizure_1679.npy', '/content/drive/MyDrive/upsi-seizure/test/chb08_02_time_nonseizure_2857.npy', '/content/drive/MyDrive/upsi-seizure/test/chb08_02_time_nonseizure_764.npy', '/content/drive/MyDrive/upsi-seizure/test/chb08_02_time_nonseizure_1953.npy', '/content/drive/MyDrive/upsi-seizure/test/chb08_02_time_nonseizure_561.npy', '/content/drive/MyDrive/upsi-seizure/test/chb08_02_time_nonseizure_1071.npy', '/content/drive/MyDrive/upsi-seizure/test/chb08_02_time_nonseizure_3094.npy', '/content/drive/MyDrive/upsi-seizure/test/chb08_02_time_nonseizure_1925.npy', '/content/drive/MyDrive/upsi-seizure/test/chb08_02_time_nonseizure_535.npy', '/content/drive/MyDrive/upsi-seizure/test/chb08_02_time_nonseizure_3498.npy', '/content/drive/MyDrive/upsi-seizure/test/chb08_02_time_nonseizure_3097.npy', '/content/drive/MyDrive/upsi-seizure/test/chb08_02_time_nonseizure_1617.npy', '/content/drive/MyDrive/upsi-seizure/test/chb08_02_time_nonseizure_1794.npy', '/content/drive/MyDrive/upsi-seizure/test/chb08_02_time_nonseizure_3285.npy', '/content/drive/MyDrive/upsi-seizure/test/chb08_02_time_nonseizure_2004.npy', '/content/drive/MyDrive/upsi-seizure/test/chb08_02_time_nonseizure_3119.npy', '/content/drive/MyDrive/upsi-seizure/test/chb08_02_time_nonseizure_3108.npy', '/content/drive/MyDrive/upsi-seizure/test/chb08_02_time_nonseizure_2620.npy', '/content/drive/MyDrive/upsi-seizure/test/chb08_02_time_nonseizure_617.npy', '/content/drive/MyDrive/upsi-seizure/test/chb08_02_time_nonseizure_2465.npy', '/content/drive/MyDrive/upsi-seizure/test/chb08_02_time_nonseizure_1907.npy', '/content/drive/MyDrive/upsi-seizure/test/chb08_02_time_nonseizure_2868.npy', '/content/drive/MyDrive/upsi-seizure/test/chb08_02_time_nonseizure_59.npy', '/content/drive/MyDrive/upsi-seizure/test/chb08_02_time_nonseizure_1001.npy', '/content/drive/MyDrive/upsi-seizure/test/chb08_02_time_nonseizure_3046.npy', '/content/drive/MyDrive/upsi-seizure/test/chb08_02_time_nonseizure_993.npy', '/content/drive/MyDrive/upsi-seizure/test/chb08_02_time_nonseizure_1280.npy', '/content/drive/MyDrive/upsi-seizure/test/chb08_02_time_nonseizure_331.npy', '/content/drive/MyDrive/upsi-seizure/test/chb08_02_time_nonseizure_3321.npy', '/content/drive/MyDrive/upsi-seizure/test/chb08_02_time_nonseizure_2973.npy', '/content/drive/MyDrive/upsi-seizure/test/chb08_02_time_nonseizure_1461.npy', '/content/drive/MyDrive/upsi-seizure/test/chb08_02_time_nonseizure_542.npy', '/content/drive/MyDrive/upsi-seizure/test/chb08_02_time_nonseizure_1127.npy', '/content/drive/MyDrive/upsi-seizure/test/chb08_02_time_nonseizure_1968.npy', '/content/drive/MyDrive/upsi-seizure/test/chb08_02_time_nonseizure_1911.npy', '/content/drive/MyDrive/upsi-seizure/test/chb08_02_time_nonseizure_2075.npy', '/content/drive/MyDrive/upsi-seizure/test/chb08_02_time_nonseizure_585.npy', '/content/drive/MyDrive/upsi-seizure/test/chb08_02_time_nonseizure_2873.npy', '/content/drive/MyDrive/upsi-seizure/test/chb08_02_time_nonseizure_130.npy', '/content/drive/MyDrive/upsi-seizure/test/chb08_02_time_nonseizure_3166.npy', '/content/drive/MyDrive/upsi-seizure/test/chb08_02_time_nonseizure_1291.npy', '/content/drive/MyDrive/upsi-seizure/test/chb08_02_time_nonseizure_2586.npy', '/content/drive/MyDrive/upsi-seizure/test/chb08_02_time_nonseizure_2631.npy', '/content/drive/MyDrive/upsi-seizure/test/chb08_02_time_seizure_2701.npy', '/content/drive/MyDrive/upsi-seizure/test/chb08_02_time_nonseizure_1129.npy', '/content/drive/MyDrive/upsi-seizure/test/chb08_02_time_nonseizure_640.npy', '/content/drive/MyDrive/upsi-seizure/test/chb08_02_time_nonseizure_3527.npy', '/content/drive/MyDrive/upsi-seizure/test/chb08_02_time_nonseizure_2293.npy', '/content/drive/MyDrive/upsi-seizure/test/chb08_02_time_nonseizure_1609.npy', '/content/drive/MyDrive/upsi-seizure/test/chb08_02_time_nonseizure_3408.npy', '/content/drive/MyDrive/upsi-seizure/test/chb08_02_time_nonseizure_3354.npy', '/content/drive/MyDrive/upsi-seizure/test/chb08_02_time_nonseizure_2978.npy', '/content/drive/MyDrive/upsi-seizure/test/chb08_02_time_nonseizure_1457.npy', '/content/drive/MyDrive/upsi-seizure/test/chb08_02_time_nonseizure_1820.npy', '/content/drive/MyDrive/upsi-seizure/test/chb08_02_time_nonseizure_1156.npy', '/content/drive/MyDrive/upsi-seizure/test/chb08_02_time_nonseizure_3130.npy', '/content/drive/MyDrive/upsi-seizure/test/chb08_02_time_nonseizure_3002.npy', '/content/drive/MyDrive/upsi-seizure/test/chb08_02_time_seizure_2770.npy', '/content/drive/MyDrive/upsi-seizure/test/chb08_02_time_nonseizure_683.npy', '/content/drive/MyDrive/upsi-seizure/test/chb08_02_time_nonseizure_360.npy', '/content/drive/MyDrive/upsi-seizure/test/chb08_02_time_nonseizure_3436.npy', '/content/drive/MyDrive/upsi-seizure/test/chb08_02_time_nonseizure_1531.npy', '/content/drive/MyDrive/upsi-seizure/test/chb08_02_time_nonseizure_355.npy', '/content/drive/MyDrive/upsi-seizure/test/chb08_02_time_nonseizure_2094.npy', '/content/drive/MyDrive/upsi-seizure/test/chb08_02_time_nonseizure_3355.npy', '/content/drive/MyDrive/upsi-seizure/test/chb08_02_time_nonseizure_1030.npy', '/content/drive/MyDrive/upsi-seizure/test/chb08_02_time_nonseizure_2530.npy', '/content/drive/MyDrive/upsi-seizure/test/chb08_02_time_nonseizure_2352.npy', '/content/drive/MyDrive/upsi-seizure/test/chb08_02_time_nonseizure_1841.npy', '/content/drive/MyDrive/upsi-seizure/test/chb08_02_time_nonseizure_1972.npy', '/content/drive/MyDrive/upsi-seizure/test/chb08_02_time_nonseizure_560.npy', '/content/drive/MyDrive/upsi-seizure/test/chb08_02_time_nonseizure_1267.npy', '/content/drive/MyDrive/upsi-seizure/test/chb08_02_time_nonseizure_879.npy', '/content/drive/MyDrive/upsi-seizure/test/chb08_02_time_nonseizure_213.npy', '/content/drive/MyDrive/upsi-seizure/test/chb08_02_time_nonseizure_2629.npy', '/content/drive/MyDrive/upsi-seizure/test/chb08_02_time_nonseizure_2061.npy', '/content/drive/MyDrive/upsi-seizure/test/chb08_02_time_nonseizure_3281.npy', '/content/drive/MyDrive/upsi-seizure/test/chb08_02_time_nonseizure_1783.npy', '/content/drive/MyDrive/upsi-seizure/test/chb08_02_time_nonseizure_630.npy', '/content/drive/MyDrive/upsi-seizure/test/chb08_02_time_nonseizure_1632.npy', '/content/drive/MyDrive/upsi-seizure/test/chb08_02_time_nonseizure_3066.npy', '/content/drive/MyDrive/upsi-seizure/test/chb08_02_time_nonseizure_751.npy', '/content/drive/MyDrive/upsi-seizure/test/chb08_02_time_nonseizure_13.npy', '/content/drive/MyDrive/upsi-seizure/test/chb08_02_time_nonseizure_77.npy', '/content/drive/MyDrive/upsi-seizure/test/chb08_02_time_nonseizure_2482.npy', '/content/drive/MyDrive/upsi-seizure/test/chb08_02_time_nonseizure_1249.npy', '/content/drive/MyDrive/upsi-seizure/test/chb08_02_time_seizure_2831.npy', '/content/drive/MyDrive/upsi-seizure/test/chb08_02_time_nonseizure_3209.npy', '/content/drive/MyDrive/upsi-seizure/test/chb08_02_time_nonseizure_3445.npy', '/content/drive/MyDrive/upsi-seizure/test/chb08_02_time_nonseizure_2948.npy', '/content/drive/MyDrive/upsi-seizure/test/chb08_02_time_nonseizure_1099.npy', '/content/drive/MyDrive/upsi-seizure/test/chb08_02_time_nonseizure_546.npy', '/content/drive/MyDrive/upsi-seizure/test/chb08_02_time_nonseizure_863.npy', '/content/drive/MyDrive/upsi-seizure/test/chb08_02_time_nonseizure_3047.npy', '/content/drive/MyDrive/upsi-seizure/test/chb08_02_time_nonseizure_3040.npy', '/content/drive/MyDrive/upsi-seizure/test/chb08_02_time_nonseizure_1408.npy', '/content/drive/MyDrive/upsi-seizure/test/chb08_02_time_nonseizure_1506.npy', '/content/drive/MyDrive/upsi-seizure/test/chb08_02_time_nonseizure_209.npy', '/content/drive/MyDrive/upsi-seizure/test/chb08_02_time_nonseizure_3124.npy', '/content/drive/MyDrive/upsi-seizure/test/chb08_02_time_nonseizure_1814.npy', '/content/drive/MyDrive/upsi-seizure/test/chb08_02_time_nonseizure_1085.npy', '/content/drive/MyDrive/upsi-seizure/test/chb08_02_time_nonseizure_3371.npy', '/content/drive/MyDrive/upsi-seizure/test/chb08_02_time_nonseizure_269.npy', '/content/drive/MyDrive/upsi-seizure/test/chb08_02_time_nonseizure_2578.npy', '/content/drive/MyDrive/upsi-seizure/test/chb08_02_time_nonseizure_1681.npy', '/content/drive/MyDrive/upsi-seizure/test/chb08_02_time_nonseizure_1854.npy', '/content/drive/MyDrive/upsi-seizure/test/chb08_02_time_nonseizure_2849.npy', '/content/drive/MyDrive/upsi-seizure/test/chb08_02_time_nonseizure_1929.npy', '/content/drive/MyDrive/upsi-seizure/test/chb08_02_time_nonseizure_642.npy', '/content/drive/MyDrive/upsi-seizure/test/chb08_02_time_nonseizure_1770.npy', '/content/drive/MyDrive/upsi-seizure/test/chb08_02_time_nonseizure_3111.npy', '/content/drive/MyDrive/upsi-seizure/test/chb08_02_time_seizure_2736.npy', '/content/drive/MyDrive/upsi-seizure/test/chb08_02_time_nonseizure_940.npy', '/content/drive/MyDrive/upsi-seizure/test/chb08_02_time_nonseizure_3268.npy', '/content/drive/MyDrive/upsi-seizure/test/chb08_02_time_nonseizure_2944.npy', '/content/drive/MyDrive/upsi-seizure/test/chb08_02_time_nonseizure_1499.npy', '/content/drive/MyDrive/upsi-seizure/test/chb08_02_time_nonseizure_470.npy', '/content/drive/MyDrive/upsi-seizure/test/chb08_02_time_nonseizure_2845.npy', '/content/drive/MyDrive/upsi-seizure/test/chb08_02_time_nonseizure_1169.npy', '/content/drive/MyDrive/upsi-seizure/test/chb08_02_time_nonseizure_974.npy', '/content/drive/MyDrive/upsi-seizure/test/chb08_02_time_nonseizure_786.npy', '/content/drive/MyDrive/upsi-seizure/test/chb08_02_time_nonseizure_3065.npy', '/content/drive/MyDrive/upsi-seizure/test/chb08_02_time_nonseizure_3103.npy', '/content/drive/MyDrive/upsi-seizure/test/chb08_02_time_nonseizure_1108.npy', '/content/drive/MyDrive/upsi-seizure/test/chb08_02_time_nonseizure_987.npy', '/content/drive/MyDrive/upsi-seizure/test/chb08_02_time_nonseizure_3535.npy', '/content/drive/MyDrive/upsi-seizure/test/chb08_02_time_nonseizure_1191.npy', '/content/drive/MyDrive/upsi-seizure/test/chb08_02_time_nonseizure_506.npy', '/content/drive/MyDrive/upsi-seizure/test/chb08_02_time_nonseizure_2019.npy', '/content/drive/MyDrive/upsi-seizure/test/chb08_02_time_nonseizure_2901.npy', '/content/drive/MyDrive/upsi-seizure/test/chb08_02_time_nonseizure_799.npy', '/content/drive/MyDrive/upsi-seizure/test/chb08_02_time_nonseizure_2132.npy', '/content/drive/MyDrive/upsi-seizure/test/chb08_02_time_nonseizure_1583.npy', '/content/drive/MyDrive/upsi-seizure/test/chb08_02_time_nonseizure_720.npy', '/content/drive/MyDrive/upsi-seizure/test/chb08_02_time_nonseizure_2558.npy', '/content/drive/MyDrive/upsi-seizure/test/chb08_02_time_seizure_2726.npy', '/content/drive/MyDrive/upsi-seizure/test/chb08_02_time_nonseizure_794.npy']\n"
          ]
        },
        {
          "output_type": "error",
          "ename": "ValueError",
          "evalue": "ignored",
          "traceback": [
            "\u001b[0;31m---------------------------------------------------------------------------\u001b[0m",
            "\u001b[0;31mValueError\u001b[0m                                Traceback (most recent call last)",
            "\u001b[0;32m<ipython-input-19-e6a170f8173e>\u001b[0m in \u001b[0;36m<module>\u001b[0;34m\u001b[0m\n\u001b[1;32m      2\u001b[0m \u001b[0;32mimport\u001b[0m \u001b[0mrandom\u001b[0m\u001b[0;34m\u001b[0m\u001b[0;34m\u001b[0m\u001b[0m\n\u001b[1;32m      3\u001b[0m \u001b[0;32mimport\u001b[0m \u001b[0mcollections\u001b[0m\u001b[0;34m\u001b[0m\u001b[0;34m\u001b[0m\u001b[0m\n\u001b[0;32m----> 4\u001b[0;31m \u001b[0mtrain_id\u001b[0m\u001b[0;34m,\u001b[0m \u001b[0mval_id\u001b[0m\u001b[0;34m,\u001b[0m \u001b[0mtest_id\u001b[0m\u001b[0;34m,\u001b[0m \u001b[0mpath_list\u001b[0m \u001b[0;34m=\u001b[0m \u001b[0mgeneratePathList\u001b[0m\u001b[0;34m(\u001b[0m\u001b[0mpatients\u001b[0m\u001b[0;34m,\u001b[0m\u001b[0mval_size\u001b[0m\u001b[0;34m=\u001b[0m \u001b[0;36m0.3\u001b[0m\u001b[0;34m,\u001b[0m \u001b[0mtest_size\u001b[0m\u001b[0;34m=\u001b[0m\u001b[0;36m0.1\u001b[0m\u001b[0;34m)\u001b[0m \u001b[0;31m# 30% test_size\u001b[0m\u001b[0;34m\u001b[0m\u001b[0;34m\u001b[0m\u001b[0m\n\u001b[0m\u001b[1;32m      5\u001b[0m \u001b[0;31m#print(test_id)\u001b[0m\u001b[0;34m\u001b[0m\u001b[0;34m\u001b[0m\u001b[0;34m\u001b[0m\u001b[0m\n\u001b[1;32m      6\u001b[0m \u001b[0;31m#print(train_id)\u001b[0m\u001b[0;34m\u001b[0m\u001b[0;34m\u001b[0m\u001b[0;34m\u001b[0m\u001b[0m\n",
            "\u001b[0;32m<ipython-input-18-2b2d846a237b>\u001b[0m in \u001b[0;36mgeneratePathList\u001b[0;34m(patients, val_size, test_size)\u001b[0m\n\u001b[1;32m     15\u001b[0m     \u001b[0mtest_index\u001b[0m \u001b[0;34m=\u001b[0m \u001b[0mrandom\u001b[0m\u001b[0;34m.\u001b[0m\u001b[0msample\u001b[0m\u001b[0;34m(\u001b[0m\u001b[0mpathList\u001b[0m\u001b[0;34m,\u001b[0m \u001b[0mtest_index_size\u001b[0m\u001b[0;34m)\u001b[0m\u001b[0;34m\u001b[0m\u001b[0;34m\u001b[0m\u001b[0m\n\u001b[1;32m     16\u001b[0m     \u001b[0mprint\u001b[0m\u001b[0;34m(\u001b[0m\u001b[0mtest_index\u001b[0m\u001b[0;34m)\u001b[0m\u001b[0;34m\u001b[0m\u001b[0;34m\u001b[0m\u001b[0m\n\u001b[0;32m---> 17\u001b[0;31m     \u001b[0;32mreturn\u001b[0m \u001b[0mpathList\u001b[0m\u001b[0;34m.\u001b[0m\u001b[0mindex\u001b[0m\u001b[0;34m(\u001b[0m\u001b[0mtrain_index\u001b[0m\u001b[0;34m)\u001b[0m\u001b[0;34m,\u001b[0m \u001b[0mpathList\u001b[0m\u001b[0;34m(\u001b[0m\u001b[0mval_index\u001b[0m\u001b[0;34m)\u001b[0m\u001b[0;34m,\u001b[0m \u001b[0mpathList\u001b[0m\u001b[0;34m.\u001b[0m\u001b[0mindex\u001b[0m\u001b[0;34m(\u001b[0m\u001b[0mtest_index\u001b[0m\u001b[0;34m)\u001b[0m\u001b[0;34m,\u001b[0m \u001b[0mpathList\u001b[0m\u001b[0;34m\u001b[0m\u001b[0;34m\u001b[0m\u001b[0m\n\u001b[0m\u001b[1;32m     18\u001b[0m \u001b[0;34m\u001b[0m\u001b[0m\n\u001b[1;32m     19\u001b[0m \u001b[0;32mclass\u001b[0m \u001b[0mDataGenerator\u001b[0m\u001b[0;34m(\u001b[0m\u001b[0mSequence\u001b[0m\u001b[0;34m)\u001b[0m\u001b[0;34m:\u001b[0m\u001b[0;34m\u001b[0m\u001b[0;34m\u001b[0m\u001b[0m\n",
            "\u001b[0;31mValueError\u001b[0m: ['/content/drive/MyDrive/upsi-seizure/test/chb08_02_time_seizure_2779.npy', '/content/drive/MyDrive/upsi-seizure/test/chb08_02_time_nonseizure_1849.npy', '/content/drive/MyDrive/upsi-seizure/test/chb08_02_time_nonseizure_741.npy', '/content/drive/MyDrive/upsi-seizure/test/chb08_02_time_nonseizure_2547.npy', '/content/drive/MyDrive/upsi-seizure/test/chb08_02_time_nonseizure_1307.npy', '/content/drive/MyDrive/upsi-seizure/test/chb08_02_time_nonseizure_504.npy', '/content/drive/MyDrive/upsi-seizure/test/chb08_02_time_nonseizure_3268.npy', '/content/drive/MyDrive/upsi-seizure/test/chb08_02_time_nonseizure_3479.npy', '/content/drive/MyDrive/upsi-seizure/test/chb08_02_time_nonseizure_1063.npy', '/content/drive/MyDrive/upsi-seizure/test/chb08_02_time_nonseizure_3085.npy', '/content/drive/MyDrive/upsi-seizure/test/chb08_02_time_nonseizure_997.npy', '/content/drive/MyDrive/upsi-seizure/test/chb08_02_time_seizure_2732.npy', '/content/drive/MyDrive/upsi-seizure/test/chb08_02_time_nonseizure_53.npy', '/content/drive/MyDrive/upsi-seizure/test/chb08_02_time_nonseizure_756.npy', '/content/drive/MyDrive/upsi-seizure/test/chb08_02_time_nonseizure_2468.npy', '/content/drive/MyDrive/upsi-seizure/test/chb08_02_time_nonseizure_531.npy', '/content/drive/MyDrive/upsi-seizure/test/chb08_02_time_nonseizure_3124.npy', '/content/drive/MyDrive/upsi-seizure/test/chb08_02_time_nonseizure_1648.npy', '/content/drive/MyDrive/upsi-seizure/test/chb08_02_time_nonseizure_346.npy', '/con..."
          ]
        }
      ]
    },
    {
      "cell_type": "code",
      "source": [
        "#test_data.__getitem__(100)"
      ],
      "metadata": {
        "id": "60fCsT0vZa-a"
      },
      "execution_count": 78,
      "outputs": []
    },
    {
      "cell_type": "code",
      "source": [
        "print(len(train_data))\n",
        "print(len(test_data))"
      ],
      "metadata": {
        "colab": {
          "base_uri": "https://localhost:8080/"
        },
        "id": "nnBf7JMw6O1x",
        "outputId": "4a3311b9-3cb1-4bea-e8ed-cf0982c1b9f8"
      },
      "execution_count": 13,
      "outputs": [
        {
          "output_type": "stream",
          "name": "stdout",
          "text": [
            "1048\n",
            "2128\n"
          ]
        }
      ]
    },
    {
      "cell_type": "code",
      "source": [
        "import numpy as np"
      ],
      "metadata": {
        "id": "Y5smxVM57Hxm"
      },
      "execution_count": 32,
      "outputs": []
    },
    {
      "cell_type": "code",
      "source": [
        "history = model.fit_generator(generator=train_data, epochs= 2, verbose=1, steps_per_epoch=None, \n",
        "                    validation_data=test_data, class_weight={0:1, 1:20}, workers=4, use_multiprocessing=True,\n",
        "                    shuffle=False, initial_epoch=0)"
      ],
      "metadata": {
        "colab": {
          "base_uri": "https://localhost:8080/",
          "height": 346
        },
        "id": "7hm5arai3-T6",
        "outputId": "e8d0b731-86b7-4f17-d539-2cb1b21e3d5a"
      },
      "execution_count": 16,
      "outputs": [
        {
          "output_type": "error",
          "ename": "TypeError",
          "evalue": "ignored",
          "traceback": [
            "\u001b[0;31m---------------------------------------------------------------------------\u001b[0m",
            "\u001b[0;31mTypeError\u001b[0m                                 Traceback (most recent call last)",
            "\u001b[0;32m<ipython-input-16-4ab053f9e037>\u001b[0m in \u001b[0;36m<module>\u001b[0;34m\u001b[0m\n\u001b[1;32m      1\u001b[0m history = model.fit_generator(generator=train_data, epochs= 2, verbose=1, steps_per_epoch=None, \n\u001b[1;32m      2\u001b[0m                     \u001b[0mvalidation_data\u001b[0m\u001b[0;34m=\u001b[0m\u001b[0mtest_data\u001b[0m\u001b[0;34m,\u001b[0m \u001b[0mclass_weight\u001b[0m\u001b[0;34m=\u001b[0m\u001b[0;34m{\u001b[0m\u001b[0;36m0\u001b[0m\u001b[0;34m:\u001b[0m\u001b[0;36m1\u001b[0m\u001b[0;34m,\u001b[0m \u001b[0;36m1\u001b[0m\u001b[0;34m:\u001b[0m\u001b[0;36m20\u001b[0m\u001b[0;34m}\u001b[0m\u001b[0;34m,\u001b[0m \u001b[0mworkers\u001b[0m\u001b[0;34m=\u001b[0m\u001b[0;36m4\u001b[0m\u001b[0;34m,\u001b[0m \u001b[0muse_multiprocessing\u001b[0m\u001b[0;34m=\u001b[0m\u001b[0;32mTrue\u001b[0m\u001b[0;34m,\u001b[0m\u001b[0;34m\u001b[0m\u001b[0;34m\u001b[0m\u001b[0m\n\u001b[0;32m----> 3\u001b[0;31m                     shuffle=False, initial_epoch=0)\n\u001b[0m",
            "\u001b[0;32m/usr/local/lib/python3.7/dist-packages/keras/engine/training.py\u001b[0m in \u001b[0;36mfit_generator\u001b[0;34m(self, generator, steps_per_epoch, epochs, verbose, callbacks, validation_data, validation_steps, validation_freq, class_weight, max_queue_size, workers, use_multiprocessing, shuffle, initial_epoch)\u001b[0m\n\u001b[1;32m   2272\u001b[0m         \u001b[0muse_multiprocessing\u001b[0m\u001b[0;34m=\u001b[0m\u001b[0muse_multiprocessing\u001b[0m\u001b[0;34m,\u001b[0m\u001b[0;34m\u001b[0m\u001b[0;34m\u001b[0m\u001b[0m\n\u001b[1;32m   2273\u001b[0m         \u001b[0mshuffle\u001b[0m\u001b[0;34m=\u001b[0m\u001b[0mshuffle\u001b[0m\u001b[0;34m,\u001b[0m\u001b[0;34m\u001b[0m\u001b[0;34m\u001b[0m\u001b[0m\n\u001b[0;32m-> 2274\u001b[0;31m         initial_epoch=initial_epoch)\n\u001b[0m\u001b[1;32m   2275\u001b[0m \u001b[0;34m\u001b[0m\u001b[0m\n\u001b[1;32m   2276\u001b[0m   \u001b[0;34m@\u001b[0m\u001b[0mdoc_controls\u001b[0m\u001b[0;34m.\u001b[0m\u001b[0mdo_not_generate_docs\u001b[0m\u001b[0;34m\u001b[0m\u001b[0;34m\u001b[0m\u001b[0m\n",
            "\u001b[0;32m/usr/local/lib/python3.7/dist-packages/keras/utils/traceback_utils.py\u001b[0m in \u001b[0;36merror_handler\u001b[0;34m(*args, **kwargs)\u001b[0m\n\u001b[1;32m     65\u001b[0m     \u001b[0;32mexcept\u001b[0m \u001b[0mException\u001b[0m \u001b[0;32mas\u001b[0m \u001b[0me\u001b[0m\u001b[0;34m:\u001b[0m  \u001b[0;31m# pylint: disable=broad-except\u001b[0m\u001b[0;34m\u001b[0m\u001b[0;34m\u001b[0m\u001b[0m\n\u001b[1;32m     66\u001b[0m       \u001b[0mfiltered_tb\u001b[0m \u001b[0;34m=\u001b[0m \u001b[0m_process_traceback_frames\u001b[0m\u001b[0;34m(\u001b[0m\u001b[0me\u001b[0m\u001b[0;34m.\u001b[0m\u001b[0m__traceback__\u001b[0m\u001b[0;34m)\u001b[0m\u001b[0;34m\u001b[0m\u001b[0;34m\u001b[0m\u001b[0m\n\u001b[0;32m---> 67\u001b[0;31m       \u001b[0;32mraise\u001b[0m \u001b[0me\u001b[0m\u001b[0;34m.\u001b[0m\u001b[0mwith_traceback\u001b[0m\u001b[0;34m(\u001b[0m\u001b[0mfiltered_tb\u001b[0m\u001b[0;34m)\u001b[0m \u001b[0;32mfrom\u001b[0m \u001b[0;32mNone\u001b[0m\u001b[0;34m\u001b[0m\u001b[0;34m\u001b[0m\u001b[0m\n\u001b[0m\u001b[1;32m     68\u001b[0m     \u001b[0;32mfinally\u001b[0m\u001b[0;34m:\u001b[0m\u001b[0;34m\u001b[0m\u001b[0;34m\u001b[0m\u001b[0m\n\u001b[1;32m     69\u001b[0m       \u001b[0;32mdel\u001b[0m \u001b[0mfiltered_tb\u001b[0m\u001b[0;34m\u001b[0m\u001b[0;34m\u001b[0m\u001b[0m\n",
            "\u001b[0;32m<ipython-input-8-96b13b8ba71c>\u001b[0m in \u001b[0;36m__getitem__\u001b[0;34m(self, idx)\u001b[0m\n\u001b[1;32m     32\u001b[0m     \u001b[0;32mdef\u001b[0m \u001b[0m__getitem__\u001b[0m\u001b[0;34m(\u001b[0m\u001b[0mself\u001b[0m\u001b[0;34m,\u001b[0m \u001b[0midx\u001b[0m\u001b[0;34m)\u001b[0m\u001b[0;34m:\u001b[0m\u001b[0;34m\u001b[0m\u001b[0;34m\u001b[0m\u001b[0m\n\u001b[1;32m     33\u001b[0m         \u001b[0mbatch_indexs\u001b[0m \u001b[0;34m=\u001b[0m \u001b[0mself\u001b[0m\u001b[0;34m.\u001b[0m\u001b[0mindex\u001b[0m\u001b[0;34m[\u001b[0m\u001b[0midx\u001b[0m\u001b[0;34m:\u001b[0m\u001b[0;34m(\u001b[0m\u001b[0midx\u001b[0m\u001b[0;34m+\u001b[0m\u001b[0mself\u001b[0m\u001b[0;34m.\u001b[0m\u001b[0mbatch_size\u001b[0m\u001b[0;34m)\u001b[0m\u001b[0;34m]\u001b[0m\u001b[0;34m\u001b[0m\u001b[0;34m\u001b[0m\u001b[0m\n\u001b[0;32m---> 34\u001b[0;31m         \u001b[0mimage_path\u001b[0m \u001b[0;34m=\u001b[0m \u001b[0;34m[\u001b[0m\u001b[0mself\u001b[0m\u001b[0;34m.\u001b[0m\u001b[0mpathList\u001b[0m\u001b[0;34m[\u001b[0m\u001b[0mk\u001b[0m\u001b[0;34m]\u001b[0m \u001b[0;32mfor\u001b[0m \u001b[0mk\u001b[0m \u001b[0;32min\u001b[0m \u001b[0mbatch_indexs\u001b[0m\u001b[0;34m]\u001b[0m\u001b[0;34m\u001b[0m\u001b[0;34m\u001b[0m\u001b[0m\n\u001b[0m\u001b[1;32m     35\u001b[0m         \u001b[0;31m#print(batch_indexs)\u001b[0m\u001b[0;34m\u001b[0m\u001b[0;34m\u001b[0m\u001b[0;34m\u001b[0m\u001b[0m\n\u001b[1;32m     36\u001b[0m         \u001b[0;31m#print(image_path)\u001b[0m\u001b[0;34m\u001b[0m\u001b[0;34m\u001b[0m\u001b[0;34m\u001b[0m\u001b[0m\n",
            "\u001b[0;32m<ipython-input-8-96b13b8ba71c>\u001b[0m in \u001b[0;36m<listcomp>\u001b[0;34m(.0)\u001b[0m\n\u001b[1;32m     32\u001b[0m     \u001b[0;32mdef\u001b[0m \u001b[0m__getitem__\u001b[0m\u001b[0;34m(\u001b[0m\u001b[0mself\u001b[0m\u001b[0;34m,\u001b[0m \u001b[0midx\u001b[0m\u001b[0;34m)\u001b[0m\u001b[0;34m:\u001b[0m\u001b[0;34m\u001b[0m\u001b[0;34m\u001b[0m\u001b[0m\n\u001b[1;32m     33\u001b[0m         \u001b[0mbatch_indexs\u001b[0m \u001b[0;34m=\u001b[0m \u001b[0mself\u001b[0m\u001b[0;34m.\u001b[0m\u001b[0mindex\u001b[0m\u001b[0;34m[\u001b[0m\u001b[0midx\u001b[0m\u001b[0;34m:\u001b[0m\u001b[0;34m(\u001b[0m\u001b[0midx\u001b[0m\u001b[0;34m+\u001b[0m\u001b[0mself\u001b[0m\u001b[0;34m.\u001b[0m\u001b[0mbatch_size\u001b[0m\u001b[0;34m)\u001b[0m\u001b[0;34m]\u001b[0m\u001b[0;34m\u001b[0m\u001b[0;34m\u001b[0m\u001b[0m\n\u001b[0;32m---> 34\u001b[0;31m         \u001b[0mimage_path\u001b[0m \u001b[0;34m=\u001b[0m \u001b[0;34m[\u001b[0m\u001b[0mself\u001b[0m\u001b[0;34m.\u001b[0m\u001b[0mpathList\u001b[0m\u001b[0;34m[\u001b[0m\u001b[0mk\u001b[0m\u001b[0;34m]\u001b[0m \u001b[0;32mfor\u001b[0m \u001b[0mk\u001b[0m \u001b[0;32min\u001b[0m \u001b[0mbatch_indexs\u001b[0m\u001b[0;34m]\u001b[0m\u001b[0;34m\u001b[0m\u001b[0;34m\u001b[0m\u001b[0m\n\u001b[0m\u001b[1;32m     35\u001b[0m         \u001b[0;31m#print(batch_indexs)\u001b[0m\u001b[0;34m\u001b[0m\u001b[0;34m\u001b[0m\u001b[0;34m\u001b[0m\u001b[0m\n\u001b[1;32m     36\u001b[0m         \u001b[0;31m#print(image_path)\u001b[0m\u001b[0;34m\u001b[0m\u001b[0;34m\u001b[0m\u001b[0;34m\u001b[0m\u001b[0m\n",
            "\u001b[0;31mTypeError\u001b[0m: list indices must be integers or slices, not str"
          ]
        }
      ]
    },
    {
      "cell_type": "code",
      "source": [
        "y_true= [0, 0, 0, 0, 0, 0, 1, 0, 0, 0, 0, 0, 0, 0, 0, 0, 0, 0, 0, 0, 0, 0,\n",
        "        0, 0, 0, 0, 0, 0, 0, 0, 0, 0]\n",
        "print(y_true)\n",
        "print(y_pred)"
      ],
      "metadata": {
        "colab": {
          "base_uri": "https://localhost:8080/"
        },
        "id": "zztE5iQ9eXd9",
        "outputId": "cc12675a-cf64-4e7d-9173-63ac1057a7a6"
      },
      "execution_count": 63,
      "outputs": [
        {
          "output_type": "stream",
          "name": "stdout",
          "text": [
            "[0, 0, 0, 0, 0, 0, 1, 0, 0, 0, 0, 0, 0, 0, 0, 0, 0, 0, 0, 0, 0, 0, 0, 0, 0, 0, 0, 0, 0, 0, 0, 0]\n",
            "[0.17241904139518738, 0.9545454382896423, 0.6899086833000183]\n"
          ]
        }
      ]
    },
    {
      "cell_type": "code",
      "source": [
        "confusion_matrix(y_true, y_pred)"
      ],
      "metadata": {
        "colab": {
          "base_uri": "https://localhost:8080/",
          "height": 311
        },
        "id": "iP3k0qXULu1e",
        "outputId": "fec8fee6-294c-4710-9a55-c0daf5fb9905"
      },
      "execution_count": 62,
      "outputs": [
        {
          "output_type": "error",
          "ename": "ValueError",
          "evalue": "ignored",
          "traceback": [
            "\u001b[0;31m---------------------------------------------------------------------------\u001b[0m",
            "\u001b[0;31mValueError\u001b[0m                                Traceback (most recent call last)",
            "\u001b[0;32m<ipython-input-62-1a5d7236d395>\u001b[0m in \u001b[0;36m<module>\u001b[0;34m\u001b[0m\n\u001b[0;32m----> 1\u001b[0;31m \u001b[0mconfusion_matrix\u001b[0m\u001b[0;34m(\u001b[0m\u001b[0my_true\u001b[0m\u001b[0;34m,\u001b[0m \u001b[0my_pred\u001b[0m\u001b[0;34m)\u001b[0m\u001b[0;34m\u001b[0m\u001b[0;34m\u001b[0m\u001b[0m\n\u001b[0m",
            "\u001b[0;32m/usr/local/lib/python3.7/dist-packages/sklearn/metrics/_classification.py\u001b[0m in \u001b[0;36mconfusion_matrix\u001b[0;34m(y_true, y_pred, labels, sample_weight, normalize)\u001b[0m\n\u001b[1;32m    305\u001b[0m     \u001b[0;34m(\u001b[0m\u001b[0;36m0\u001b[0m\u001b[0;34m,\u001b[0m \u001b[0;36m2\u001b[0m\u001b[0;34m,\u001b[0m \u001b[0;36m1\u001b[0m\u001b[0;34m,\u001b[0m \u001b[0;36m1\u001b[0m\u001b[0;34m)\u001b[0m\u001b[0;34m\u001b[0m\u001b[0;34m\u001b[0m\u001b[0m\n\u001b[1;32m    306\u001b[0m     \"\"\"\n\u001b[0;32m--> 307\u001b[0;31m     \u001b[0my_type\u001b[0m\u001b[0;34m,\u001b[0m \u001b[0my_true\u001b[0m\u001b[0;34m,\u001b[0m \u001b[0my_pred\u001b[0m \u001b[0;34m=\u001b[0m \u001b[0m_check_targets\u001b[0m\u001b[0;34m(\u001b[0m\u001b[0my_true\u001b[0m\u001b[0;34m,\u001b[0m \u001b[0my_pred\u001b[0m\u001b[0;34m)\u001b[0m\u001b[0;34m\u001b[0m\u001b[0;34m\u001b[0m\u001b[0m\n\u001b[0m\u001b[1;32m    308\u001b[0m     \u001b[0;32mif\u001b[0m \u001b[0my_type\u001b[0m \u001b[0;32mnot\u001b[0m \u001b[0;32min\u001b[0m \u001b[0;34m(\u001b[0m\u001b[0;34m\"binary\"\u001b[0m\u001b[0;34m,\u001b[0m \u001b[0;34m\"multiclass\"\u001b[0m\u001b[0;34m)\u001b[0m\u001b[0;34m:\u001b[0m\u001b[0;34m\u001b[0m\u001b[0;34m\u001b[0m\u001b[0m\n\u001b[1;32m    309\u001b[0m         \u001b[0;32mraise\u001b[0m \u001b[0mValueError\u001b[0m\u001b[0;34m(\u001b[0m\u001b[0;34m\"%s is not supported\"\u001b[0m \u001b[0;34m%\u001b[0m \u001b[0my_type\u001b[0m\u001b[0;34m)\u001b[0m\u001b[0;34m\u001b[0m\u001b[0;34m\u001b[0m\u001b[0m\n",
            "\u001b[0;32m/usr/local/lib/python3.7/dist-packages/sklearn/metrics/_classification.py\u001b[0m in \u001b[0;36m_check_targets\u001b[0;34m(y_true, y_pred)\u001b[0m\n\u001b[1;32m     82\u001b[0m     \u001b[0my_pred\u001b[0m \u001b[0;34m:\u001b[0m \u001b[0marray\u001b[0m \u001b[0;32mor\u001b[0m \u001b[0mindicator\u001b[0m \u001b[0mmatrix\u001b[0m\u001b[0;34m\u001b[0m\u001b[0;34m\u001b[0m\u001b[0m\n\u001b[1;32m     83\u001b[0m     \"\"\"\n\u001b[0;32m---> 84\u001b[0;31m     \u001b[0mcheck_consistent_length\u001b[0m\u001b[0;34m(\u001b[0m\u001b[0my_true\u001b[0m\u001b[0;34m,\u001b[0m \u001b[0my_pred\u001b[0m\u001b[0;34m)\u001b[0m\u001b[0;34m\u001b[0m\u001b[0;34m\u001b[0m\u001b[0m\n\u001b[0m\u001b[1;32m     85\u001b[0m     \u001b[0mtype_true\u001b[0m \u001b[0;34m=\u001b[0m \u001b[0mtype_of_target\u001b[0m\u001b[0;34m(\u001b[0m\u001b[0my_true\u001b[0m\u001b[0;34m)\u001b[0m\u001b[0;34m\u001b[0m\u001b[0;34m\u001b[0m\u001b[0m\n\u001b[1;32m     86\u001b[0m     \u001b[0mtype_pred\u001b[0m \u001b[0;34m=\u001b[0m \u001b[0mtype_of_target\u001b[0m\u001b[0;34m(\u001b[0m\u001b[0my_pred\u001b[0m\u001b[0;34m)\u001b[0m\u001b[0;34m\u001b[0m\u001b[0;34m\u001b[0m\u001b[0m\n",
            "\u001b[0;32m/usr/local/lib/python3.7/dist-packages/sklearn/utils/validation.py\u001b[0m in \u001b[0;36mcheck_consistent_length\u001b[0;34m(*arrays)\u001b[0m\n\u001b[1;32m    332\u001b[0m         raise ValueError(\n\u001b[1;32m    333\u001b[0m             \u001b[0;34m\"Found input variables with inconsistent numbers of samples: %r\"\u001b[0m\u001b[0;34m\u001b[0m\u001b[0;34m\u001b[0m\u001b[0m\n\u001b[0;32m--> 334\u001b[0;31m             \u001b[0;34m%\u001b[0m \u001b[0;34m[\u001b[0m\u001b[0mint\u001b[0m\u001b[0;34m(\u001b[0m\u001b[0ml\u001b[0m\u001b[0;34m)\u001b[0m \u001b[0;32mfor\u001b[0m \u001b[0ml\u001b[0m \u001b[0;32min\u001b[0m \u001b[0mlengths\u001b[0m\u001b[0;34m]\u001b[0m\u001b[0;34m\u001b[0m\u001b[0;34m\u001b[0m\u001b[0m\n\u001b[0m\u001b[1;32m    335\u001b[0m         )\n\u001b[1;32m    336\u001b[0m \u001b[0;34m\u001b[0m\u001b[0m\n",
            "\u001b[0;31mValueError\u001b[0m: Found input variables with inconsistent numbers of samples: [32, 3]"
          ]
        }
      ]
    },
    {
      "cell_type": "code",
      "source": [
        "print(history)"
      ],
      "metadata": {
        "colab": {
          "base_uri": "https://localhost:8080/"
        },
        "id": "6lArNs0cTvls",
        "outputId": "f54f9066-275e-43be-f0bd-23a6f862d416"
      },
      "execution_count": 36,
      "outputs": [
        {
          "output_type": "stream",
          "name": "stdout",
          "text": [
            "<keras.callbacks.History object at 0x7f49b022ac90>\n"
          ]
        }
      ]
    },
    {
      "cell_type": "code",
      "source": [
        "y_pred = model.evaluate(test_data, batch_size = 32)"
      ],
      "metadata": {
        "colab": {
          "base_uri": "https://localhost:8080/",
          "height": 1000
        },
        "id": "XsJZtCXe6WbZ",
        "outputId": "c524977d-f7fb-4925-fcb8-571bc981e7da"
      },
      "execution_count": 66,
      "outputs": [
        {
          "output_type": "stream",
          "name": "stdout",
          "text": [
            "[1111, 3155, 1138, 16148, 5963, 11390, 925, 8960, 15675, 1890, 4611, 16218, 12759, 2456, 9913, 14993, 3668, 17427, 10137, 665, 2628, 3781, 12491, 5656, 9605, 8445, 10252, 2246, 2192, 6386, 17392, 10180]\n",
            "['/content/drive/MyDrive/upsi-seizure/normalised/chb08_02_time_nonseizure_1112.npy', '/content/drive/MyDrive/upsi-seizure/normalised/chb08_02_time_nonseizure_3156.npy', '/content/drive/MyDrive/upsi-seizure/normalised/chb08_02_time_nonseizure_1139.npy', '/content/drive/MyDrive/upsi-seizure/normalised/chb08_21_time_nonseizure_1749.npy', '/content/drive/MyDrive/upsi-seizure/normalised/chb08_05_time_nonseizure_2364.npy', '/content/drive/MyDrive/upsi-seizure/normalised/chb08_13_time_nonseizure_591.npy', '/content/drive/MyDrive/upsi-seizure/normalised/chb08_02_time_nonseizure_926.npy', '/content/drive/MyDrive/upsi-seizure/normalised/chb08_11_time_nonseizure_1761.npy', '/content/drive/MyDrive/upsi-seizure/normalised/chb08_21_time_nonseizure_1276.npy', '/content/drive/MyDrive/upsi-seizure/normalised/chb08_02_time_nonseizure_1891.npy', '/content/drive/MyDrive/upsi-seizure/normalised/chb08_05_time_nonseizure_1012.npy', '/content/drive/MyDrive/upsi-seizure/normalised/chb08_21_time_nonseizure_1819.npy', '/content/drive/MyDrive/upsi-seizure/normalised/chb08_13_time_nonseizure_1960.npy', '/content/drive/MyDrive/upsi-seizure/normalised/chb08_02_time_nonseizure_2457.npy', '/content/drive/MyDrive/upsi-seizure/normalised/chb08_11_time_nonseizure_2714.npy', '/content/drive/MyDrive/upsi-seizure/normalised/chb08_21_time_nonseizure_594.npy', '/content/drive/MyDrive/upsi-seizure/normalised/chb08_05_time_nonseizure_69.npy', '/content/drive/MyDrive/upsi-seizure/normalised/chb08_21_time_nonseizure_3028.npy', '/content/drive/MyDrive/upsi-seizure/normalised/chb08_11_time_nonseizure_2938.npy', '/content/drive/MyDrive/upsi-seizure/normalised/chb08_02_time_nonseizure_666.npy', '/content/drive/MyDrive/upsi-seizure/normalised/chb08_02_time_nonseizure_2629.npy', '/content/drive/MyDrive/upsi-seizure/normalised/chb08_05_time_nonseizure_182.npy', '/content/drive/MyDrive/upsi-seizure/normalised/chb08_13_time_nonseizure_1692.npy', '/content/drive/MyDrive/upsi-seizure/normalised/chb08_05_time_nonseizure_2057.npy', '/content/drive/MyDrive/upsi-seizure/normalised/chb08_11_time_nonseizure_2406.npy', '/content/drive/MyDrive/upsi-seizure/normalised/chb08_11_time_nonseizure_1246.npy', '/content/drive/MyDrive/upsi-seizure/normalised/chb08_11_time_seizure_3053.npy', '/content/drive/MyDrive/upsi-seizure/normalised/chb08_02_time_nonseizure_2247.npy', '/content/drive/MyDrive/upsi-seizure/normalised/chb08_02_time_nonseizure_2193.npy', '/content/drive/MyDrive/upsi-seizure/normalised/chb08_05_time_nonseizure_2787.npy', '/content/drive/MyDrive/upsi-seizure/normalised/chb08_21_time_nonseizure_2993.npy', '/content/drive/MyDrive/upsi-seizure/normalised/chb08_11_time_nonseizure_2981.npy']\n",
            "hi\n",
            "features [[[0.16730038 0.18631179 0.21356147 ... 0.71799747 0.71102662 0.73447402]\n",
            "  [0.8878327  0.86818758 0.78770596 ... 0.32509506 0.34030418 0.31242079]\n",
            "  [0.30544994 0.50190114 0.49176172 ... 0.53992395 0.58365019 0.60139417]\n",
            "  ...\n",
            "  [0.56780735 0.58174905 0.53358682 ... 0.41508238 0.39670469 0.38656527]\n",
            "  [0.62991128 0.7008872  0.63117871 ... 0.54499366 0.54309252 0.51901141]\n",
            "  [0.5095057  0.50316857 0.62927757 ... 0.57731305 0.67173638 0.70152091]]\n",
            "\n",
            " [[0.47269891 0.5226209  0.48985959 ... 0.56162246 0.61934477 0.6099844 ]\n",
            "  [0.09984399 0.00156006 0.18408736 ... 0.60842434 0.58814353 0.5850234 ]\n",
            "  [0.72074883 0.70514821 0.60530421 ... 0.4648986  0.42121685 0.3900156 ]\n",
            "  ...\n",
            "  [0.55070203 0.53978159 0.52418097 ... 0.49921997 0.55382215 0.50078003]\n",
            "  [0.30421217 0.2324493  0.41965679 ... 0.51638066 0.45397816 0.46957878]\n",
            "  [0.60062402 0.61622465 0.45865835 ... 0.65210608 0.59438378 0.56630265]]\n",
            "\n",
            " [[0.26183575 0.26714976 0.27294686 ... 0.46376812 0.46376812 0.46376812]\n",
            "  [0.60434783 0.58985507 0.58695652 ... 0.34299517 0.34347826 0.36908213]\n",
            "  [0.46038647 0.45555556 0.45507246 ... 0.5        0.4826087  0.46328502]\n",
            "  ...\n",
            "  [0.47971014 0.50048309 0.48792271 ... 0.44444444 0.44057971 0.43623188]\n",
            "  [0.49082126 0.44927536 0.48502415 ... 0.50821256 0.46425121 0.50966184]\n",
            "  [0.65652174 0.72077295 0.70483092 ... 0.56908213 0.58357488 0.50483092]]\n",
            "\n",
            " ...\n",
            "\n",
            " [[0.46920493 0.5106383  0.48152296 ... 0.48712206 0.42665174 0.39529675]\n",
            "  [0.4031355  0.27771557 0.38521837 ... 0.53527436 0.58678611 0.71220605]\n",
            "  [0.54871221 0.62038074 0.55543113 ... 0.59574468 0.58342665 0.52407615]\n",
            "  ...\n",
            "  [0.54871221 0.51511758 0.53527436 ... 0.52295633 0.56215006 0.57334826]\n",
            "  [0.62038074 0.41545353 0.3818589  ... 0.45016797 0.41545353 0.52295633]\n",
            "  [0.45240761 0.5643897  0.66853303 ... 0.34714446 0.52855543 0.58006719]]\n",
            "\n",
            " [[0.61522634 0.60082305 0.61316872 ... 0.44753086 0.45164609 0.4537037 ]\n",
            "  [0.58436214 0.56378601 0.53395062 ... 0.46399177 0.45884774 0.46604938]\n",
            "  [0.58641975 0.5936214  0.54218107 ... 0.60493827 0.60596708 0.61728395]\n",
            "  ...\n",
            "  [0.30144033 0.2962963  0.3127572  ... 0.56584362 0.54423868 0.55761317]\n",
            "  [0.50308642 0.51028807 0.51440329 ... 0.45576132 0.45061728 0.45679012]\n",
            "  [0.59465021 0.57921811 0.56893004 ... 0.50823045 0.51028807 0.49485597]]\n",
            "\n",
            " [[0.50794552 0.52440409 0.52553916 ... 0.47446084 0.44324631 0.41657208]\n",
            "  [0.52951192 0.64755959 0.62031782 ... 0.63393871 0.50170261 0.4199773 ]\n",
            "  [0.51702611 0.41032917 0.46083995 ... 0.42735528 0.56469921 0.72531215]\n",
            "  ...\n",
            "  [0.48240636 0.49148695 0.48637911 ... 0.62031782 0.61634506 0.61464245]\n",
            "  [0.52553916 0.57264472 0.60045403 ... 0.44892168 0.43359818 0.47502838]\n",
            "  [0.44438138 0.39670829 0.37797957 ... 0.45346198 0.50510783 0.45856981]]]\n",
            "labels [0 0 0 0 0 0 0 0 0 0 0 0 0 0 0 0 0 0 0 0 0 0 0 0 0 0 1 0 0 0 0 0]\n",
            "(32, 23, 256)\n",
            "(32, 23, 256, 1)\n"
          ]
        },
        {
          "output_type": "error",
          "ename": "ValueError",
          "evalue": "ignored",
          "traceback": [
            "\u001b[0;31m---------------------------------------------------------------------------\u001b[0m",
            "\u001b[0;31mValueError\u001b[0m                                Traceback (most recent call last)",
            "\u001b[0;32m<ipython-input-66-67d9e11f2901>\u001b[0m in \u001b[0;36m<module>\u001b[0;34m\u001b[0m\n\u001b[0;32m----> 1\u001b[0;31m \u001b[0my_pred\u001b[0m \u001b[0;34m=\u001b[0m \u001b[0mmodel\u001b[0m\u001b[0;34m.\u001b[0m\u001b[0mevaluate\u001b[0m\u001b[0;34m(\u001b[0m\u001b[0mtest_data\u001b[0m\u001b[0;34m,\u001b[0m \u001b[0mbatch_size\u001b[0m \u001b[0;34m=\u001b[0m \u001b[0;36m32\u001b[0m\u001b[0;34m)\u001b[0m\u001b[0;34m\u001b[0m\u001b[0;34m\u001b[0m\u001b[0m\n\u001b[0m",
            "\u001b[0;32m/usr/local/lib/python3.7/dist-packages/keras/utils/traceback_utils.py\u001b[0m in \u001b[0;36merror_handler\u001b[0;34m(*args, **kwargs)\u001b[0m\n\u001b[1;32m     65\u001b[0m     \u001b[0;32mexcept\u001b[0m \u001b[0mException\u001b[0m \u001b[0;32mas\u001b[0m \u001b[0me\u001b[0m\u001b[0;34m:\u001b[0m  \u001b[0;31m# pylint: disable=broad-except\u001b[0m\u001b[0;34m\u001b[0m\u001b[0;34m\u001b[0m\u001b[0m\n\u001b[1;32m     66\u001b[0m       \u001b[0mfiltered_tb\u001b[0m \u001b[0;34m=\u001b[0m \u001b[0m_process_traceback_frames\u001b[0m\u001b[0;34m(\u001b[0m\u001b[0me\u001b[0m\u001b[0;34m.\u001b[0m\u001b[0m__traceback__\u001b[0m\u001b[0;34m)\u001b[0m\u001b[0;34m\u001b[0m\u001b[0;34m\u001b[0m\u001b[0m\n\u001b[0;32m---> 67\u001b[0;31m       \u001b[0;32mraise\u001b[0m \u001b[0me\u001b[0m\u001b[0;34m.\u001b[0m\u001b[0mwith_traceback\u001b[0m\u001b[0;34m(\u001b[0m\u001b[0mfiltered_tb\u001b[0m\u001b[0;34m)\u001b[0m \u001b[0;32mfrom\u001b[0m \u001b[0;32mNone\u001b[0m\u001b[0;34m\u001b[0m\u001b[0;34m\u001b[0m\u001b[0m\n\u001b[0m\u001b[1;32m     68\u001b[0m     \u001b[0;32mfinally\u001b[0m\u001b[0;34m:\u001b[0m\u001b[0;34m\u001b[0m\u001b[0;34m\u001b[0m\u001b[0m\n\u001b[1;32m     69\u001b[0m       \u001b[0;32mdel\u001b[0m \u001b[0mfiltered_tb\u001b[0m\u001b[0;34m\u001b[0m\u001b[0;34m\u001b[0m\u001b[0m\n",
            "\u001b[0;32m/usr/local/lib/python3.7/dist-packages/keras/engine/training.py\u001b[0m in \u001b[0;36mtf__test_function\u001b[0;34m(iterator)\u001b[0m\n\u001b[1;32m     13\u001b[0m                 \u001b[0;32mtry\u001b[0m\u001b[0;34m:\u001b[0m\u001b[0;34m\u001b[0m\u001b[0;34m\u001b[0m\u001b[0m\n\u001b[1;32m     14\u001b[0m                     \u001b[0mdo_return\u001b[0m \u001b[0;34m=\u001b[0m \u001b[0;32mTrue\u001b[0m\u001b[0;34m\u001b[0m\u001b[0;34m\u001b[0m\u001b[0m\n\u001b[0;32m---> 15\u001b[0;31m                     \u001b[0mretval_\u001b[0m \u001b[0;34m=\u001b[0m \u001b[0mag__\u001b[0m\u001b[0;34m.\u001b[0m\u001b[0mconverted_call\u001b[0m\u001b[0;34m(\u001b[0m\u001b[0mag__\u001b[0m\u001b[0;34m.\u001b[0m\u001b[0mld\u001b[0m\u001b[0;34m(\u001b[0m\u001b[0mstep_function\u001b[0m\u001b[0;34m)\u001b[0m\u001b[0;34m,\u001b[0m \u001b[0;34m(\u001b[0m\u001b[0mag__\u001b[0m\u001b[0;34m.\u001b[0m\u001b[0mld\u001b[0m\u001b[0;34m(\u001b[0m\u001b[0mself\u001b[0m\u001b[0;34m)\u001b[0m\u001b[0;34m,\u001b[0m \u001b[0mag__\u001b[0m\u001b[0;34m.\u001b[0m\u001b[0mld\u001b[0m\u001b[0;34m(\u001b[0m\u001b[0miterator\u001b[0m\u001b[0;34m)\u001b[0m\u001b[0;34m)\u001b[0m\u001b[0;34m,\u001b[0m \u001b[0;32mNone\u001b[0m\u001b[0;34m,\u001b[0m \u001b[0mfscope\u001b[0m\u001b[0;34m)\u001b[0m\u001b[0;34m\u001b[0m\u001b[0;34m\u001b[0m\u001b[0m\n\u001b[0m\u001b[1;32m     16\u001b[0m                 \u001b[0;32mexcept\u001b[0m\u001b[0;34m:\u001b[0m\u001b[0;34m\u001b[0m\u001b[0;34m\u001b[0m\u001b[0m\n\u001b[1;32m     17\u001b[0m                     \u001b[0mdo_return\u001b[0m \u001b[0;34m=\u001b[0m \u001b[0;32mFalse\u001b[0m\u001b[0;34m\u001b[0m\u001b[0;34m\u001b[0m\u001b[0m\n",
            "\u001b[0;31mValueError\u001b[0m: in user code:\n\n    File \"/usr/local/lib/python3.7/dist-packages/keras/engine/training.py\", line 1557, in test_function  *\n        return step_function(self, iterator)\n    File \"/usr/local/lib/python3.7/dist-packages/keras/engine/training.py\", line 1546, in step_function  **\n        outputs = model.distribute_strategy.run(run_step, args=(data,))\n    File \"/usr/local/lib/python3.7/dist-packages/keras/engine/training.py\", line 1535, in run_step  **\n        outputs = model.test_step(data)\n    File \"/usr/local/lib/python3.7/dist-packages/keras/engine/training.py\", line 1499, in test_step\n        y_pred = self(x, training=False)\n    File \"/usr/local/lib/python3.7/dist-packages/keras/utils/traceback_utils.py\", line 67, in error_handler\n        raise e.with_traceback(filtered_tb) from None\n    File \"/usr/local/lib/python3.7/dist-packages/keras/engine/input_spec.py\", line 200, in assert_input_compatibility\n        raise ValueError(f'Layer \"{layer_name}\" expects {len(input_spec)} input(s),'\n\n    ValueError: Layer \"sequential_1\" expects 1 input(s), but it received 2 input tensors. Inputs received: [<tf.Tensor 'IteratorGetNext:0' shape=(None, None, None, None) dtype=float32>, <tf.Tensor 'IteratorGetNext:1' shape=(None,) dtype=int64>]\n"
          ]
        }
      ]
    }
  ]
}